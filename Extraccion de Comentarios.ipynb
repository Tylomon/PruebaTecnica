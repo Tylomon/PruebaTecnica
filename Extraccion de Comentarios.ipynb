{
 "cells": [
  {
   "cell_type": "markdown",
   "id": "constant-pioneer",
   "metadata": {},
   "source": [
    "# Extraccion de datos: Comentarios\n",
    "A continuacion se presentan las lineas de codigo usadas, para la extraccion de datos, en particular se requieren los comentarios de los usuarios\n"
   ]
  },
  {
   "cell_type": "code",
   "execution_count": 1,
   "id": "respiratory-james",
   "metadata": {},
   "outputs": [],
   "source": [
    "#Se importa librerias, \n",
    "#request permite hacer solicitudes http a urls particulares\n",
    "#Beautiful Soup permite hacer extraccion de datos\n",
    "import requests\n",
    "from bs4 import BeautifulSoup"
   ]
  },
  {
   "cell_type": "markdown",
   "id": "little-structure",
   "metadata": {},
   "source": [
    "Se realiza una solicituda la url, posteriormente se abstrae todo el contenido de la página web en un formato valido\n",
    "y finalmente se visualiza dicho contenido para comprobar que los comentarios se encuentran allí"
   ]
  },
  {
   "cell_type": "code",
   "execution_count": 2,
   "id": "electric-officer",
   "metadata": {},
   "outputs": [],
   "source": [
    "#request y extraccion\n",
    "r = requests.get('https://play.google.com/store/apps/details?id=com.clarocolombia.miclaro&hl=es_CO&gl=US&showAllReviews=true')\n",
    "soup=BeautifulSoup(r.text, 'lxml')"
   ]
  },
  {
   "cell_type": "code",
   "execution_count": 3,
   "id": "assumed-graph",
   "metadata": {},
   "outputs": [],
   "source": [
    "#print(soup.prettify())"
   ]
  },
  {
   "cell_type": "markdown",
   "id": "dominican-bacteria",
   "metadata": {},
   "source": [
    "Es importante mencionar que los datos de los comentarios estan al interior de un script, se realiza una identificacion manual de donde se encuentran para realizar una segmentación o separación de cada uno.\n",
    "Este metodo es una solucíon particular y no automatica."
   ]
  },
  {
   "cell_type": "code",
   "execution_count": 4,
   "id": "dependent-greenhouse",
   "metadata": {},
   "outputs": [],
   "source": [
    "#Se realiza una conversion a cadena de caracteres\n",
    "data=str(soup)"
   ]
  },
  {
   "cell_type": "markdown",
   "id": "south-addiction",
   "metadata": {},
   "source": [
    "Se pretende separar unicamente la cantidad de caracteres donde se encuentra la totalidad de comentarios, para ello se identifican cadenas especificas y su posicion"
   ]
  },
  {
   "cell_type": "code",
   "execution_count": 5,
   "id": "everyday-learning",
   "metadata": {},
   "outputs": [
    {
     "name": "stdout",
     "output_type": "stream",
     "text": [
      "La posición de la subcadena es 681652\n"
     ]
    }
   ],
   "source": [
    "#Caracteres especificos donde inicia el primer comentario\n",
    "subcadena = ',null,\"Claro es lo peor'\n",
    "posicion = data.find(subcadena)\n",
    "print('La posición de la subcadena es', posicion)"
   ]
  },
  {
   "cell_type": "code",
   "execution_count": 6,
   "id": "incorporated-teens",
   "metadata": {},
   "outputs": [
    {
     "name": "stdout",
     "output_type": "stream",
     "text": [
      "La posición de la subcadena es -1\n"
     ]
    }
   ],
   "source": [
    "#Caracteres especificos donde finaliza y se abarcan los comentarios\n",
    "subcadena = 'YyYQ\"]], si'\n",
    "posicion = data.find(subcadena)\n",
    "print('La posición de la subcadena es', posicion)"
   ]
  },
  {
   "cell_type": "code",
   "execution_count": 7,
   "id": "wrapped-mississippi",
   "metadata": {},
   "outputs": [],
   "source": [
    "#Se crea una nueva variable que contiene la totalidad de los comentarios, y que sera segmentada\n",
    "Bloque_Comentarios=data[686672:735155]"
   ]
  },
  {
   "cell_type": "code",
   "execution_count": 8,
   "id": "posted-state",
   "metadata": {},
   "outputs": [],
   "source": [
    "#Funcion, para identificar las posiciones de cadenas  especificas\n",
    "def encontrar_todas(cadena, subcadena):\n",
    "    posiciones = []\n",
    "    posicion = 0\n",
    "\n",
    "    while posicion != -1:\n",
    "        posicion = cadena.find(subcadena,posicion)\n",
    "        if posicion != -1:\n",
    "            posiciones.append(posicion)\n",
    "            posicion += 1\n",
    "    return posiciones"
   ]
  },
  {
   "cell_type": "markdown",
   "id": "front-inspector",
   "metadata": {},
   "source": [
    "Los comentarios estan encerrrados entre comillas simples (\"\"), asi que para separarlos se identifican las posiciones del caracter comillas dentro del vector de Bloque_Comentarios.Estas posiciones se almacenan en un nuevo vector, seran usadas para segmentar los comentarios y haran uso de un ciclo iterativo."
   ]
  },
  {
   "cell_type": "code",
   "execution_count": 9,
   "id": "suburban-providence",
   "metadata": {},
   "outputs": [],
   "source": [
    "posiciones1 = encontrar_todas(Bloque_Comentarios,'\"')\n",
    "#print('Posiciones:', posiciones1, len(posiciones1))"
   ]
  },
  {
   "cell_type": "code",
   "execution_count": 10,
   "id": "american-restaurant",
   "metadata": {},
   "outputs": [],
   "source": [
    "#Este ciclo iterativo realiza la segmentación de los comentarios, usando como referencia\n",
    "# que cada comentario esta al interior de comillas '\"\"'\n",
    "#Y ademas se asigna como condicion una longitud minima de 150 caracteres, para solo segmentar cadenas de texto importantes\n",
    "comentarios=[]\n",
    "for i in range(len(posiciones1)):\n",
    "    if (i!=(len(posiciones1)-1)):\n",
    "         if ((posiciones1[i+1]-posiciones1[i]>150)):  \n",
    "            comentarios.append(Bloque_Comentarios[posiciones1[i]:posiciones1[i+1]])\n",
    "            #print(i, posiciones1[i],posiciones1[i+1], i,i+1)  \n"
   ]
  },
  {
   "cell_type": "code",
   "execution_count": 11,
   "id": "positive-flooring",
   "metadata": {},
   "outputs": [
    {
     "data": {
      "text/plain": [
       "['\"La aplicacion no me permite ingresar, me dice que la sección está iniciada en otro dispositivo y no tengo ningún otro dispositivo,me envía correos de válidacion pero no funciona, mas seriedad con el servicio que prestan, ni en los puntos de atención al cliente me pudieron solucionar y marcando al *611 casi una hora y ninguna respuesta',\n",
       " '\"Hola Fredy, por favor escríbenos a nuestras redes sociales, nos encuentras en Facebook como Claro Colombia o en Twitter @ClaroTeAyuda y con mucho gusto te ayudamos con lo sucedido.',\n",
       " '\"Le doy las 4 estrellas por parecerme bueno el servicio de la app y por algún margen de error que se pueda producir. Me deja consultar todo, nunca he tenido problemas con nada, (respecto a la app). Es cierto que a veces hay que tocar varias puertas para que te puedan arreglar algún lío, pero en general la califico como buena.',\n",
       " '\"Es el peor Internet móvil que conozco muy lento, aparte hacen cobros que no corresponden al plan que uno contrata sino que se dobla a lo que normalmente se paga y aparte se llama a la línea *611 y cuelgan las llamas cuando se dan cuenta que es un reclamo pero si fuera para afrocer un producto si la llamada se cae automáticamente devuelven la llamada que fue lo que me paso desafortunadamenre me paso a mi, pésimo servicio. 😭',\n",
       " '\"Pésimo servicio .. pasa dañado a todo momento y la factura llega igual .. no dan soluciones rápidas a los inconvenientes presentados. mal servicio nadie soluciona ahhh pero al momento de pasar la.factura èsta viene igual .pésimo muy pésimo l. Verdad. No lo recomiendo no gestionas nada no solucionan los problemas.. el Internet pasa caido']"
      ]
     },
     "execution_count": 11,
     "metadata": {},
     "output_type": "execute_result"
    }
   ],
   "source": [
    "comentarios[0:5]#Visualizacion de algunos Comentarios"
   ]
  },
  {
   "cell_type": "markdown",
   "id": "provincial-methodology",
   "metadata": {},
   "source": [
    "El ultimo paso corresponde a almacenar los datos en un archivo externo separado por comas csv"
   ]
  },
  {
   "cell_type": "code",
   "execution_count": 12,
   "id": "hidden-delta",
   "metadata": {},
   "outputs": [
    {
     "name": "stdout",
     "output_type": "stream",
     "text": [
      "Archivo CSV Creado\n"
     ]
    }
   ],
   "source": [
    "import csv\n",
    "archivocsv = open('comentarios.csv', 'w')\n",
    "with archivocsv:\n",
    "    writer = csv.writer(archivocsv,delimiter =\",\")\n",
    "    writer.writerow(['Comentarios extraidos,'])\n",
    "    for i in range(len(comentarios)):        \n",
    "        try:\n",
    "            writer.writerow([str(comentarios[i])+'\",'])\n",
    "        except:\n",
    "            writer.writerow([str(comentarios[i]+'\",').encode(\"utf-8\")])\n",
    "print(\"Archivo CSV Creado\")"
   ]
  }
 ],
 "metadata": {
  "kernelspec": {
   "display_name": "Python 3",
   "language": "python",
   "name": "python3"
  },
  "language_info": {
   "codemirror_mode": {
    "name": "ipython",
    "version": 3
   },
   "file_extension": ".py",
   "mimetype": "text/x-python",
   "name": "python",
   "nbconvert_exporter": "python",
   "pygments_lexer": "ipython3",
   "version": "3.8.5"
  }
 },
 "nbformat": 4,
 "nbformat_minor": 5
}

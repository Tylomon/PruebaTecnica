{
 "cells": [
  {
   "cell_type": "markdown",
   "id": "constant-pioneer",
   "metadata": {},
   "source": [
    "# Extraccion de datos: Comentarios\n",
    "A continuacion se presentan las lineas de codigo usadas, para la extraccion de datos, en particular se requieren los comentarios de los usuarios\n"
   ]
  },
  {
   "cell_type": "code",
   "execution_count": 1,
   "id": "respiratory-james",
   "metadata": {},
   "outputs": [],
   "source": [
    "#Se importa librerias, \n",
    "#request permite hacer solicitudes http a urls particulares\n",
    "#Beautiful Soup permite hacer extraccion de datos\n",
    "import requests\n",
    "from bs4 import BeautifulSoup"
   ]
  },
  {
   "cell_type": "markdown",
   "id": "little-structure",
   "metadata": {},
   "source": [
    "Se realiza una solicituda la url, posteriormente se abstrae todo el contenido de la página web en un formato valido\n",
    "y finalmente se visualiza dicho contenido para comprobar que los comentarios se encuentran allí"
   ]
  },
  {
   "cell_type": "code",
   "execution_count": 2,
   "id": "electric-officer",
   "metadata": {},
   "outputs": [],
   "source": [
    "#request y extraccion\n",
    "r = requests.get('https://play.google.com/store/apps/details?id=com.clarocolombia.miclaro&hl=es_CO&gl=US&showAllReviews=true')\n",
    "soup=BeautifulSoup(r.text, 'lxml')"
   ]
  },
  {
   "cell_type": "code",
   "execution_count": 3,
   "id": "assumed-graph",
   "metadata": {},
   "outputs": [],
   "source": [
    "#print(soup.prettify())"
   ]
  },
  {
   "cell_type": "markdown",
   "id": "dominican-bacteria",
   "metadata": {},
   "source": [
    "Es importante mencionar que los datos de los comentarios estan al interior de un script, se realiza una identificacion manual de donde se encuentran para realizar una segmentación o separación de cada uno.\n",
    "Este metodo es una solucíon particular y no automatica."
   ]
  },
  {
   "cell_type": "code",
   "execution_count": 4,
   "id": "dependent-greenhouse",
   "metadata": {},
   "outputs": [],
   "source": [
    "#Se realiza una conversion a cadena de caracteres\n",
    "data=str(soup)"
   ]
  },
  {
   "cell_type": "markdown",
   "id": "south-addiction",
   "metadata": {},
   "source": [
    "Se pretende separar unicamente la cantidad de caracteres donde se encuentra la totalidad de comentarios, para ello se identifican cadenas especificas y su posicion"
   ]
  },
  {
   "cell_type": "code",
   "execution_count": 5,
   "id": "everyday-learning",
   "metadata": {},
   "outputs": [
    {
     "name": "stdout",
     "output_type": "stream",
     "text": [
      "La posición de la subcadena es 686661\n"
     ]
    }
   ],
   "source": [
    "#Caracteres especificos donde inicia el primer comentario\n",
    "subcadena = 'Yo soy un'\n",
    "posicion1 = data.find(subcadena)\n",
    "print('La posición de la subcadena es', posicion1)"
   ]
  },
  {
   "cell_type": "code",
   "execution_count": 6,
   "id": "incorporated-teens",
   "metadata": {},
   "outputs": [
    {
     "name": "stdout",
     "output_type": "stream",
     "text": [
      "La posición de la subcadena es 688600\n"
     ]
    }
   ],
   "source": [
    "#Caracteres especificos donde finaliza y se abarcan los comentarios\n",
    "subcadena = 'o.\",[16'\n",
    "posicion2 = data.find(subcadena)\n",
    "print('La posición de la subcadena es', posicion2)"
   ]
  },
  {
   "cell_type": "markdown",
   "id": "professional-graduate",
   "metadata": {},
   "source": [
    "Aunque estos datos variaran diariamente, lo que si puede garantizarse es que siempre alrededor de esas posiciones, es decir encerrado en esos valores nummericos siempre se encontrarán alojados comentarios"
   ]
  },
  {
   "cell_type": "code",
   "execution_count": 7,
   "id": "wrapped-mississippi",
   "metadata": {},
   "outputs": [],
   "source": [
    "#Se crea una nueva variable que contiene la totalidad de los comentarios, y que sera segmentada\n",
    "Bloque_Comentarios=data[686500:690000]"
   ]
  },
  {
   "cell_type": "code",
   "execution_count": 8,
   "id": "posted-state",
   "metadata": {},
   "outputs": [],
   "source": [
    "#Funcion, para identificar las posiciones de cadenas  especificas\n",
    "def encontrar_todas(cadena, subcadena):\n",
    "    posiciones = []\n",
    "    posicion = 0\n",
    "\n",
    "    while posicion != -1:\n",
    "        posicion = cadena.find(subcadena,posicion)\n",
    "        if posicion != -1:\n",
    "            posiciones.append(posicion)\n",
    "            posicion += 1\n",
    "    return posiciones"
   ]
  },
  {
   "cell_type": "markdown",
   "id": "front-inspector",
   "metadata": {},
   "source": [
    "Los comentarios estan encerrrados entre comillas simples (\"\"), asi que para separarlos se identifican las posiciones del caracter comillas dentro del vector de Bloque_Comentarios.Estas posiciones se almacenan en un nuevo vector, seran usadas para segmentar los comentarios y haran uso de un ciclo iterativo."
   ]
  },
  {
   "cell_type": "code",
   "execution_count": 9,
   "id": "suburban-providence",
   "metadata": {},
   "outputs": [],
   "source": [
    "posiciones1 = encontrar_todas(Bloque_Comentarios,'\"')\n",
    "#print('Posiciones:', posiciones1, len(posiciones1))"
   ]
  },
  {
   "cell_type": "code",
   "execution_count": 10,
   "id": "american-restaurant",
   "metadata": {},
   "outputs": [],
   "source": [
    "#Este ciclo iterativo realiza la segmentación de los comentarios, usando como referencia\n",
    "# que cada comentario esta al interior de comillas '\"\"'\n",
    "#Y ademas se asigna como condicion una longitud minima de 150 caracteres, para solo segmentar cadenas de texto importantes\n",
    "comentarios=[]\n",
    "for i in range(len(posiciones1)):\n",
    "    if (i!=(len(posiciones1)-1)):\n",
    "         if ((posiciones1[i+1]-posiciones1[i]>150)):  \n",
    "            comentarios.append(Bloque_Comentarios[posiciones1[i]:posiciones1[i+1]])\n",
    "            #print(i, posiciones1[i],posiciones1[i+1], i,i+1)  \n"
   ]
  },
  {
   "cell_type": "code",
   "execution_count": 11,
   "id": "positive-flooring",
   "metadata": {},
   "outputs": [
    {
     "data": {
      "text/plain": [
       "['\"Yo soy un ciudadano del común, con un plan sencillo para acceder a datos y navegación, y es verdad que he pasado por momentos incómodos con mi operador, pero soy CLARO hace ya algunos años, y debo decir que siento francamente que hacen todo lo posible por brindar un muy buen servicio, que debemos comprender dificultades que surgen debido a la misma saturación del espectro electromagnético, sin embargo, hoy les expresó a todos aquellos que trabajan para servir GRACIAS, GRACIAS TOTALES, con más fuerza, con más positivismo, aguante CLARO.',\n",
       " '\"¡Hola! Muchas gracias por la confianza que tienes en nosotros, sabemos que se puede mejorar aún más y seguiremos trabajando para brindarte siempre lo mejor.',\n",
       " '\"Claro es lo peor últimamente en telefonía celular, no hay señal para las llamadas y mucho menos para datos, he llamado varias veces sin solución, después de muchos años desde que era celcaribe, me tocó cambiar de operador. En telefonía fija el internet nunca funciona, ya estoy cansada de está situación, uno llama y cuando vienen no le SOLUCIONAN Nada.',\n",
       " '\"Desde hace un año que compré éste paquete, ha sido un desperdicio de dinero, el 80% del supuesto servicio siempre estaba sin señal y eso que tenía un sólo aparato conectado. Tener hogar claro y a la vez claro post pago, el último señalado se atiene al primero y viceversa, en total post pago baja su calidad de servicio; dicho ésto, solicito la desconexión inmediata de claro hogar']"
      ]
     },
     "execution_count": 11,
     "metadata": {},
     "output_type": "execute_result"
    }
   ],
   "source": [
    "comentarios[0:5]#Visualizacion de algunos Comentarios"
   ]
  },
  {
   "cell_type": "markdown",
   "id": "provincial-methodology",
   "metadata": {},
   "source": [
    "El ultimo paso corresponde a almacenar los datos en un archivo externo separado por comas csv"
   ]
  },
  {
   "cell_type": "code",
   "execution_count": 12,
   "id": "hidden-delta",
   "metadata": {},
   "outputs": [
    {
     "name": "stdout",
     "output_type": "stream",
     "text": [
      "Archivo CSV Creado\n"
     ]
    }
   ],
   "source": [
    "import csv\n",
    "archivocsv = open('comentarios.csv', 'w')\n",
    "with archivocsv:\n",
    "    writer = csv.writer(archivocsv,delimiter =\",\")\n",
    "    writer.writerow(['Comentarios extraidos,'])\n",
    "    for i in range(len(comentarios)):        \n",
    "        try:\n",
    "            writer.writerow([str(comentarios[i])+'\",'])\n",
    "        except:\n",
    "            writer.writerow([str(comentarios[i]+'\",').encode(\"utf-8\")])\n",
    "print(\"Archivo CSV Creado\")"
   ]
  }
 ],
 "metadata": {
  "kernelspec": {
   "display_name": "Python 3",
   "language": "python",
   "name": "python3"
  },
  "language_info": {
   "codemirror_mode": {
    "name": "ipython",
    "version": 3
   },
   "file_extension": ".py",
   "mimetype": "text/x-python",
   "name": "python",
   "nbconvert_exporter": "python",
   "pygments_lexer": "ipython3",
   "version": "3.8.5"
  }
 },
 "nbformat": 4,
 "nbformat_minor": 5
}

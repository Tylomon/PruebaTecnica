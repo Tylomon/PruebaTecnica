{
 "cells": [
  {
   "cell_type": "markdown",
   "id": "impressive-parker",
   "metadata": {},
   "source": [
    "# NLP y valoracion de Comentarios\n",
    "Para la evaluación de los diferentes comentarios se hara uso de la libreria *PANDAS* para control de datos, en conjunto con la libreria *Textblob*.\n",
    "Se tomo como referencia el ejercicio presentado en [[1]](https://www.aprendemachinelearning.com/ejercicio-nlp-cuentos-de-hernan-casciari-python-espanol/), ademas de extraer algunos fragmentos de código alli presentados.\n",
    "\n",
    "El esquema de trabajo a seguir corresponde a cargar los datos de los comentarios previamente almacenados en un archivo .csv, realizar una transcion de los mismos a un dataframe o arreglo pandas, y finalmente realizar NLP mediante los comandos proporcionados por la libreria *TextBlob*.\n"
   ]
  },
  {
   "cell_type": "code",
   "execution_count": 1,
   "id": "corrected-enemy",
   "metadata": {},
   "outputs": [],
   "source": [
    "#Se importan las librerias\n",
    "import numpy as np\n",
    "import pandas as pd\n",
    "# Librerias Necesarias para trabajo y cadenas de texto\n",
    "import re\n",
    "import string\n"
   ]
  },
  {
   "cell_type": "code",
   "execution_count": 2,
   "id": "living-glossary",
   "metadata": {},
   "outputs": [
    {
     "data": {
      "text/html": [
       "<div>\n",
       "<style scoped>\n",
       "    .dataframe tbody tr th:only-of-type {\n",
       "        vertical-align: middle;\n",
       "    }\n",
       "\n",
       "    .dataframe tbody tr th {\n",
       "        vertical-align: top;\n",
       "    }\n",
       "\n",
       "    .dataframe thead th {\n",
       "        text-align: right;\n",
       "    }\n",
       "</style>\n",
       "<table border=\"1\" class=\"dataframe\">\n",
       "  <thead>\n",
       "    <tr style=\"text-align: right;\">\n",
       "      <th></th>\n",
       "      <th>Comentarios extraidos,</th>\n",
       "    </tr>\n",
       "  </thead>\n",
       "  <tbody>\n",
       "    <tr>\n",
       "      <th>0</th>\n",
       "      <td>\"Claro es lo peor �ltimamente en telefon�a cel...</td>\n",
       "    </tr>\n",
       "    <tr>\n",
       "      <th>1</th>\n",
       "      <td>\"Desde hace un a�o que compr� �ste paquete, ha...</td>\n",
       "    </tr>\n",
       "    <tr>\n",
       "      <th>2</th>\n",
       "      <td>\"Llevo m�s de un a�o con el servicio de claro ...</td>\n",
       "    </tr>\n",
       "    <tr>\n",
       "      <th>3</th>\n",
       "      <td>\"La App de Claro es buena. Lo que no es bueno ...</td>\n",
       "    </tr>\n",
       "    <tr>\n",
       "      <th>4</th>\n",
       "      <td>\"Horrible la se�al. Se me va constantemente el...</td>\n",
       "    </tr>\n",
       "  </tbody>\n",
       "</table>\n",
       "</div>"
      ],
      "text/plain": [
       "                              Comentarios extraidos,\n",
       "0  \"Claro es lo peor �ltimamente en telefon�a cel...\n",
       "1  \"Desde hace un a�o que compr� �ste paquete, ha...\n",
       "2  \"Llevo m�s de un a�o con el servicio de claro ...\n",
       "3  \"La App de Claro es buena. Lo que no es bueno ...\n",
       "4  \"Horrible la se�al. Se me va constantemente el..."
      ]
     },
     "execution_count": 2,
     "metadata": {},
     "output_type": "execute_result"
    }
   ],
   "source": [
    "#Lectura del archivo CSV\n",
    "datos=pd.read_csv('comentarios.csv',sep='\\n')\n",
    "datos.head()#Visualizamos que se hallan cargado correctamente"
   ]
  },
  {
   "cell_type": "markdown",
   "id": "paperback-formation",
   "metadata": {},
   "source": [
    "Ahora se realiza la transcion a un Dataframe de pandas, este proceso se reliza para poder aplicar comandos de NLP con mayor facilidad"
   ]
  },
  {
   "cell_type": "code",
   "execution_count": 3,
   "id": "unnecessary-confusion",
   "metadata": {},
   "outputs": [
    {
     "data": {
      "text/html": [
       "<div>\n",
       "<style scoped>\n",
       "    .dataframe tbody tr th:only-of-type {\n",
       "        vertical-align: middle;\n",
       "    }\n",
       "\n",
       "    .dataframe tbody tr th {\n",
       "        vertical-align: top;\n",
       "    }\n",
       "\n",
       "    .dataframe thead th {\n",
       "        text-align: right;\n",
       "    }\n",
       "</style>\n",
       "<table border=\"1\" class=\"dataframe\">\n",
       "  <thead>\n",
       "    <tr style=\"text-align: right;\">\n",
       "      <th></th>\n",
       "      <th>transcript</th>\n",
       "    </tr>\n",
       "  </thead>\n",
       "  <tbody>\n",
       "    <tr>\n",
       "      <th>0</th>\n",
       "      <td>\"Claro es lo peor �ltimamente en telefon�a cel...</td>\n",
       "    </tr>\n",
       "    <tr>\n",
       "      <th>1</th>\n",
       "      <td>\"Desde hace un a�o que compr� �ste paquete, ha...</td>\n",
       "    </tr>\n",
       "    <tr>\n",
       "      <th>2</th>\n",
       "      <td>\"Llevo m�s de un a�o con el servicio de claro ...</td>\n",
       "    </tr>\n",
       "    <tr>\n",
       "      <th>3</th>\n",
       "      <td>\"La App de Claro es buena. Lo que no es bueno ...</td>\n",
       "    </tr>\n",
       "    <tr>\n",
       "      <th>4</th>\n",
       "      <td>\"Horrible la se�al. Se me va constantemente el...</td>\n",
       "    </tr>\n",
       "  </tbody>\n",
       "</table>\n",
       "</div>"
      ],
      "text/plain": [
       "                                          transcript\n",
       "0  \"Claro es lo peor �ltimamente en telefon�a cel...\n",
       "1  \"Desde hace un a�o que compr� �ste paquete, ha...\n",
       "2  \"Llevo m�s de un a�o con el servicio de claro ...\n",
       "3  \"La App de Claro es buena. Lo que no es bueno ...\n",
       "4  \"Horrible la se�al. Se me va constantemente el..."
      ]
     },
     "execution_count": 3,
     "metadata": {},
     "output_type": "execute_result"
    }
   ],
   "source": [
    "#Transicion a dataframe\n",
    "data_df = pd.DataFrame.from_dict(datos)\n",
    "data_df.columns = ['transcript'] #La columna con informacion se titulará 'transcript'\n",
    "data_df = data_df.sort_index()#organizacion or indices\n",
    "data_df.head()"
   ]
  },
  {
   "cell_type": "markdown",
   "id": "valid-summit",
   "metadata": {},
   "source": [
    "Una vez cargados los datos se realiza una limpieza del texto y de caracteres especiales, "
   ]
  },
  {
   "cell_type": "code",
   "execution_count": 4,
   "id": "floating-knowing",
   "metadata": {},
   "outputs": [],
   "source": [
    "#Funcion para Limpieza de Texto\n",
    "def clean_text_round1(text):\n",
    "    '''Make text lowercase, remove text in square brackets, remove punctuation and remove words containing numbers.'''\n",
    "    text = text.lower()\n",
    "    text = re.sub('\\[.*?¿\\]\\%', ' ', text)\n",
    "    text = re.sub('[%s]' % re.escape(string.punctuation), ' ', text)\n",
    "    text = re.sub('\\w*\\d\\w*', '', text)\n",
    "    return text\n"
   ]
  },
  {
   "cell_type": "code",
   "execution_count": 5,
   "id": "injured-benchmark",
   "metadata": {},
   "outputs": [],
   "source": [
    "round1 = lambda x: clean_text_round1(x)"
   ]
  },
  {
   "cell_type": "code",
   "execution_count": 6,
   "id": "fabulous-humanity",
   "metadata": {},
   "outputs": [
    {
     "data": {
      "text/html": [
       "<div>\n",
       "<style scoped>\n",
       "    .dataframe tbody tr th:only-of-type {\n",
       "        vertical-align: middle;\n",
       "    }\n",
       "\n",
       "    .dataframe tbody tr th {\n",
       "        vertical-align: top;\n",
       "    }\n",
       "\n",
       "    .dataframe thead th {\n",
       "        text-align: right;\n",
       "    }\n",
       "</style>\n",
       "<table border=\"1\" class=\"dataframe\">\n",
       "  <thead>\n",
       "    <tr style=\"text-align: right;\">\n",
       "      <th></th>\n",
       "      <th>transcript</th>\n",
       "    </tr>\n",
       "  </thead>\n",
       "  <tbody>\n",
       "    <tr>\n",
       "      <th>0</th>\n",
       "      <td>claro es lo peor �ltimamente en telefon�a cel...</td>\n",
       "    </tr>\n",
       "    <tr>\n",
       "      <th>1</th>\n",
       "      <td>desde hace un a�o que compr� �ste paquete  ha...</td>\n",
       "    </tr>\n",
       "    <tr>\n",
       "      <th>2</th>\n",
       "      <td>llevo m�s de un a�o con el servicio de claro ...</td>\n",
       "    </tr>\n",
       "    <tr>\n",
       "      <th>3</th>\n",
       "      <td>la app de claro es buena  lo que no es bueno ...</td>\n",
       "    </tr>\n",
       "    <tr>\n",
       "      <th>4</th>\n",
       "      <td>horrible la se�al  se me va constantemente el...</td>\n",
       "    </tr>\n",
       "  </tbody>\n",
       "</table>\n",
       "</div>"
      ],
      "text/plain": [
       "                                          transcript\n",
       "0   claro es lo peor �ltimamente en telefon�a cel...\n",
       "1   desde hace un a�o que compr� �ste paquete  ha...\n",
       "2   llevo m�s de un a�o con el servicio de claro ...\n",
       "3   la app de claro es buena  lo que no es bueno ...\n",
       "4   horrible la se�al  se me va constantemente el..."
      ]
     },
     "execution_count": 6,
     "metadata": {},
     "output_type": "execute_result"
    }
   ],
   "source": [
    "data = pd.DataFrame(data_df.transcript.apply(round1))\n",
    "data.head()"
   ]
  },
  {
   "cell_type": "markdown",
   "id": "fantastic-establishment",
   "metadata": {},
   "source": [
    "A continuacion se aplicará TextBlob, la libreria provee el concepto de Polaridad(Parametro entregado entre -1 y 1) usado para evaluar satisfaccion asociadad a sentimientos, y subjetividad(Parametro entregado entre 0 y 1) asociado a que tan diciente u objetivo es un texto.\n",
    "\n",
    "Ademas es importante mencionar que el analisis de texto funciona unicamente para contenido en ingles, asi que tambien debe aplicarse una traducion, que es provista tambien a traves de la libreria textblob."
   ]
  },
  {
   "cell_type": "code",
   "execution_count": 7,
   "id": "bearing-margin",
   "metadata": {},
   "outputs": [],
   "source": [
    "#Definiciones lambda para textblob\n",
    "from textblob import TextBlob\n",
    "pol = lambda x: TextBlob(x).sentiment.polarity\n",
    "pol2 = lambda x: x.sentiment.polarity\n",
    "sub = lambda x: TextBlob(x).sentiment.subjectivity\n",
    "sub2 = lambda x: x.sentiment.subjectivity\n",
    "traducir = lambda x: TextBlob(x).translate(to=\"en\")"
   ]
  },
  {
   "cell_type": "code",
   "execution_count": 8,
   "id": "willing-synthesis",
   "metadata": {},
   "outputs": [],
   "source": [
    "#Se crea una Nueva Columna que contendra la traduccion del texto\n",
    "data['blob_en'] = data['transcript'].apply(traducir)\n",
    "#Se crea una Nueva Columna que contendra el resultado numerico del parametro polaridad\n",
    "data['polarity'] = data['blob_en'].apply(pol2)\n",
    "#Se crea una Nueva Columna que contendra el resultado numerico del parametro subjetividad\n",
    "data['subjectivity'] = data['blob_en'].apply(sub2)"
   ]
  },
  {
   "cell_type": "code",
   "execution_count": 9,
   "id": "completed-attachment",
   "metadata": {},
   "outputs": [
    {
     "data": {
      "text/html": [
       "<div>\n",
       "<style scoped>\n",
       "    .dataframe tbody tr th:only-of-type {\n",
       "        vertical-align: middle;\n",
       "    }\n",
       "\n",
       "    .dataframe tbody tr th {\n",
       "        vertical-align: top;\n",
       "    }\n",
       "\n",
       "    .dataframe thead th {\n",
       "        text-align: right;\n",
       "    }\n",
       "</style>\n",
       "<table border=\"1\" class=\"dataframe\">\n",
       "  <thead>\n",
       "    <tr style=\"text-align: right;\">\n",
       "      <th></th>\n",
       "      <th>transcript</th>\n",
       "      <th>blob_en</th>\n",
       "      <th>polarity</th>\n",
       "      <th>subjectivity</th>\n",
       "    </tr>\n",
       "  </thead>\n",
       "  <tbody>\n",
       "    <tr>\n",
       "      <th>0</th>\n",
       "      <td>claro es lo peor �ltimamente en telefon�a cel...</td>\n",
       "      <td>(O, f,  , c, o, u, r, s, e, ,,  , i, t,  , i, ...</td>\n",
       "      <td>-0.227778</td>\n",
       "      <td>0.477778</td>\n",
       "    </tr>\n",
       "    <tr>\n",
       "      <th>1</th>\n",
       "      <td>desde hace un a�o que compr� �ste paquete  ha...</td>\n",
       "      <td>(f, o, r,  , a,  , y, e, a, r,  , t, h, a, t, ...</td>\n",
       "      <td>0.038889</td>\n",
       "      <td>0.380556</td>\n",
       "    </tr>\n",
       "    <tr>\n",
       "      <th>2</th>\n",
       "      <td>llevo m�s de un a�o con el servicio de claro ...</td>\n",
       "      <td>(I,  , h, a, v, e,  , b, e, e, n,  , u, s, i, ...</td>\n",
       "      <td>-0.082619</td>\n",
       "      <td>0.589683</td>\n",
       "    </tr>\n",
       "    <tr>\n",
       "      <th>3</th>\n",
       "      <td>la app de claro es buena  lo que no es bueno ...</td>\n",
       "      <td>(t, h, e,  , c, l, e, a, r,  , a, p, p,  , i, ...</td>\n",
       "      <td>0.337000</td>\n",
       "      <td>0.522859</td>\n",
       "    </tr>\n",
       "    <tr>\n",
       "      <th>4</th>\n",
       "      <td>horrible la se�al  se me va constantemente el...</td>\n",
       "      <td>(h, o, r, r, i, b, l, e,  , t, h, e,  , s, i, ...</td>\n",
       "      <td>-0.401667</td>\n",
       "      <td>0.616667</td>\n",
       "    </tr>\n",
       "  </tbody>\n",
       "</table>\n",
       "</div>"
      ],
      "text/plain": [
       "                                          transcript  \\\n",
       "0   claro es lo peor �ltimamente en telefon�a cel...   \n",
       "1   desde hace un a�o que compr� �ste paquete  ha...   \n",
       "2   llevo m�s de un a�o con el servicio de claro ...   \n",
       "3   la app de claro es buena  lo que no es bueno ...   \n",
       "4   horrible la se�al  se me va constantemente el...   \n",
       "\n",
       "                                             blob_en  polarity  subjectivity  \n",
       "0  (O, f,  , c, o, u, r, s, e, ,,  , i, t,  , i, ... -0.227778      0.477778  \n",
       "1  (f, o, r,  , a,  , y, e, a, r,  , t, h, a, t, ...  0.038889      0.380556  \n",
       "2  (I,  , h, a, v, e,  , b, e, e, n,  , u, s, i, ... -0.082619      0.589683  \n",
       "3  (t, h, e,  , c, l, e, a, r,  , a, p, p,  , i, ...  0.337000      0.522859  \n",
       "4  (h, o, r, r, i, b, l, e,  , t, h, e,  , s, i, ... -0.401667      0.616667  "
      ]
     },
     "execution_count": 9,
     "metadata": {},
     "output_type": "execute_result"
    }
   ],
   "source": [
    "data.head()"
   ]
  },
  {
   "cell_type": "markdown",
   "id": "corporate-wells",
   "metadata": {},
   "source": [
    "Para la evaluacion de la experiencia de usuario, pueden tomarse los valores numericos contenidos en polaridad, subjetividad o ambos. A continuacion se hara uso de la columna polaridad y en base a ella se realiza la asigancacion de una valoracion : *Positiva, Negativa*  ademas de una asignacion aproximada de estrellas de calificacion.\n",
    "Un ciclo iterativo evalua individualmente los componentes del arreglo y asigna los valores a dos nuevas columnas."
   ]
  },
  {
   "cell_type": "code",
   "execution_count": 10,
   "id": "mediterranean-complaint",
   "metadata": {},
   "outputs": [],
   "source": [
    "data['Calif']=0\n",
    "data['Stars']=0"
   ]
  },
  {
   "cell_type": "code",
   "execution_count": 11,
   "id": "defensive-karma",
   "metadata": {},
   "outputs": [
    {
     "name": "stderr",
     "output_type": "stream",
     "text": [
      "<ipython-input-11-4722efc15cd7>:10: SettingWithCopyWarning: \n",
      "A value is trying to be set on a copy of a slice from a DataFrame\n",
      "\n",
      "See the caveats in the documentation: https://pandas.pydata.org/pandas-docs/stable/user_guide/indexing.html#returning-a-view-versus-a-copy\n",
      "  data.Calif[i] = 'Negativo'\n",
      "c:\\users\\asus\\miniconda3\\lib\\site-packages\\pandas\\core\\indexing.py:1637: SettingWithCopyWarning: \n",
      "A value is trying to be set on a copy of a slice from a DataFrame\n",
      "\n",
      "See the caveats in the documentation: https://pandas.pydata.org/pandas-docs/stable/user_guide/indexing.html#returning-a-view-versus-a-copy\n",
      "  self._setitem_single_block(indexer, value, name)\n",
      "<ipython-input-11-4722efc15cd7>:11: SettingWithCopyWarning: \n",
      "A value is trying to be set on a copy of a slice from a DataFrame\n",
      "\n",
      "See the caveats in the documentation: https://pandas.pydata.org/pandas-docs/stable/user_guide/indexing.html#returning-a-view-versus-a-copy\n",
      "  data.Stars[i] = 2\n",
      "<ipython-input-11-4722efc15cd7>:13: SettingWithCopyWarning: \n",
      "A value is trying to be set on a copy of a slice from a DataFrame\n",
      "\n",
      "See the caveats in the documentation: https://pandas.pydata.org/pandas-docs/stable/user_guide/indexing.html#returning-a-view-versus-a-copy\n",
      "  data.Stars[i] = 1\n",
      "<ipython-input-11-4722efc15cd7>:3: SettingWithCopyWarning: \n",
      "A value is trying to be set on a copy of a slice from a DataFrame\n",
      "\n",
      "See the caveats in the documentation: https://pandas.pydata.org/pandas-docs/stable/user_guide/indexing.html#returning-a-view-versus-a-copy\n",
      "  data.Calif[i] = 'Positivo'\n",
      "<ipython-input-11-4722efc15cd7>:4: SettingWithCopyWarning: \n",
      "A value is trying to be set on a copy of a slice from a DataFrame\n",
      "\n",
      "See the caveats in the documentation: https://pandas.pydata.org/pandas-docs/stable/user_guide/indexing.html#returning-a-view-versus-a-copy\n",
      "  data.Stars[i] = 3\n",
      "<ipython-input-11-4722efc15cd7>:6: SettingWithCopyWarning: \n",
      "A value is trying to be set on a copy of a slice from a DataFrame\n",
      "\n",
      "See the caveats in the documentation: https://pandas.pydata.org/pandas-docs/stable/user_guide/indexing.html#returning-a-view-versus-a-copy\n",
      "  data.Stars[i] = 4\n"
     ]
    }
   ],
   "source": [
    "for i in range(len(data)):\n",
    "    if (data.polarity[i]>0.2):\n",
    "        data.Calif[i] = 'Positivo'\n",
    "        data.Stars[i] = 3\n",
    "        if (data.polarity[i]>0.3):\n",
    "            data.Stars[i] = 4\n",
    "        elif (data.polarity[i]>0.4):\n",
    "            data.Stars[i] = 5\n",
    "    else:\n",
    "        data.Calif[i] = 'Negativo'\n",
    "        data.Stars[i] = 2\n",
    "        if (data.polarity[i]<0):\n",
    "            data.Stars[i] = 1    "
   ]
  },
  {
   "cell_type": "code",
   "execution_count": 12,
   "id": "offshore-attitude",
   "metadata": {},
   "outputs": [
    {
     "data": {
      "text/html": [
       "<div>\n",
       "<style scoped>\n",
       "    .dataframe tbody tr th:only-of-type {\n",
       "        vertical-align: middle;\n",
       "    }\n",
       "\n",
       "    .dataframe tbody tr th {\n",
       "        vertical-align: top;\n",
       "    }\n",
       "\n",
       "    .dataframe thead th {\n",
       "        text-align: right;\n",
       "    }\n",
       "</style>\n",
       "<table border=\"1\" class=\"dataframe\">\n",
       "  <thead>\n",
       "    <tr style=\"text-align: right;\">\n",
       "      <th></th>\n",
       "      <th>transcript</th>\n",
       "      <th>blob_en</th>\n",
       "      <th>polarity</th>\n",
       "      <th>subjectivity</th>\n",
       "      <th>Calif</th>\n",
       "      <th>Stars</th>\n",
       "    </tr>\n",
       "  </thead>\n",
       "  <tbody>\n",
       "    <tr>\n",
       "      <th>0</th>\n",
       "      <td>claro es lo peor �ltimamente en telefon�a cel...</td>\n",
       "      <td>(O, f,  , c, o, u, r, s, e, ,,  , i, t,  , i, ...</td>\n",
       "      <td>-0.227778</td>\n",
       "      <td>0.477778</td>\n",
       "      <td>Negativo</td>\n",
       "      <td>1</td>\n",
       "    </tr>\n",
       "    <tr>\n",
       "      <th>1</th>\n",
       "      <td>desde hace un a�o que compr� �ste paquete  ha...</td>\n",
       "      <td>(f, o, r,  , a,  , y, e, a, r,  , t, h, a, t, ...</td>\n",
       "      <td>0.038889</td>\n",
       "      <td>0.380556</td>\n",
       "      <td>Negativo</td>\n",
       "      <td>2</td>\n",
       "    </tr>\n",
       "    <tr>\n",
       "      <th>2</th>\n",
       "      <td>llevo m�s de un a�o con el servicio de claro ...</td>\n",
       "      <td>(I,  , h, a, v, e,  , b, e, e, n,  , u, s, i, ...</td>\n",
       "      <td>-0.082619</td>\n",
       "      <td>0.589683</td>\n",
       "      <td>Negativo</td>\n",
       "      <td>1</td>\n",
       "    </tr>\n",
       "    <tr>\n",
       "      <th>3</th>\n",
       "      <td>la app de claro es buena  lo que no es bueno ...</td>\n",
       "      <td>(t, h, e,  , c, l, e, a, r,  , a, p, p,  , i, ...</td>\n",
       "      <td>0.337000</td>\n",
       "      <td>0.522859</td>\n",
       "      <td>Positivo</td>\n",
       "      <td>4</td>\n",
       "    </tr>\n",
       "    <tr>\n",
       "      <th>4</th>\n",
       "      <td>horrible la se�al  se me va constantemente el...</td>\n",
       "      <td>(h, o, r, r, i, b, l, e,  , t, h, e,  , s, i, ...</td>\n",
       "      <td>-0.401667</td>\n",
       "      <td>0.616667</td>\n",
       "      <td>Negativo</td>\n",
       "      <td>1</td>\n",
       "    </tr>\n",
       "  </tbody>\n",
       "</table>\n",
       "</div>"
      ],
      "text/plain": [
       "                                          transcript  \\\n",
       "0   claro es lo peor �ltimamente en telefon�a cel...   \n",
       "1   desde hace un a�o que compr� �ste paquete  ha...   \n",
       "2   llevo m�s de un a�o con el servicio de claro ...   \n",
       "3   la app de claro es buena  lo que no es bueno ...   \n",
       "4   horrible la se�al  se me va constantemente el...   \n",
       "\n",
       "                                             blob_en  polarity  subjectivity  \\\n",
       "0  (O, f,  , c, o, u, r, s, e, ,,  , i, t,  , i, ... -0.227778      0.477778   \n",
       "1  (f, o, r,  , a,  , y, e, a, r,  , t, h, a, t, ...  0.038889      0.380556   \n",
       "2  (I,  , h, a, v, e,  , b, e, e, n,  , u, s, i, ... -0.082619      0.589683   \n",
       "3  (t, h, e,  , c, l, e, a, r,  , a, p, p,  , i, ...  0.337000      0.522859   \n",
       "4  (h, o, r, r, i, b, l, e,  , t, h, e,  , s, i, ... -0.401667      0.616667   \n",
       "\n",
       "      Calif  Stars  \n",
       "0  Negativo      1  \n",
       "1  Negativo      2  \n",
       "2  Negativo      1  \n",
       "3  Positivo      4  \n",
       "4  Negativo      1  "
      ]
     },
     "execution_count": 12,
     "metadata": {},
     "output_type": "execute_result"
    }
   ],
   "source": [
    "data.head()"
   ]
  }
 ],
 "metadata": {
  "kernelspec": {
   "display_name": "Python 3",
   "language": "python",
   "name": "python3"
  },
  "language_info": {
   "codemirror_mode": {
    "name": "ipython",
    "version": 3
   },
   "file_extension": ".py",
   "mimetype": "text/x-python",
   "name": "python",
   "nbconvert_exporter": "python",
   "pygments_lexer": "ipython3",
   "version": "3.8.5"
  }
 },
 "nbformat": 4,
 "nbformat_minor": 5
}
